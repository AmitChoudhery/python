{
 "cells": [
  {
   "cell_type": "code",
   "execution_count": 15,
   "id": "102492bf",
   "metadata": {},
   "outputs": [
    {
     "name": "stdout",
     "output_type": "stream",
     "text": [
      "Welcome to RED CLIFFE TEST\n",
      "Enter your full namefdsld\n",
      "enter your contact no 51555\n",
      "enter your city ggn\n",
      "     Thanks you logged succesfully !!!!!!\n",
      "choose  1 for= CBC,BP,=399\n",
      " choose 2 for= CBC,BP,+TYPYOD=799\n",
      "choose 3 for= CBC,BP,  BS,VIDAL,MALERIA,DENGUE=1099\n",
      "enter pack 3\n",
      "CBC,BP,  BS,VIDAL,MALERIA,DENGUE=1099\n",
      "payment mode 1.case /n 2.upi\n",
      "enter mode1\n",
      "total price 1099 offer 10%\n",
      "pay=109.9\n"
     ]
    }
   ],
   "source": [
    "# red cliffe test project\n",
    "print(\"Welcome to RED CLIFFE TEST\" )\n",
    "a=str(input(\"Enter your full name\"))\n",
    "b=int((input(\"enter your contact no \")))\n",
    "c=str(input(\"enter your city \")).upper\n",
    "print(\"     Thanks you logged succesfully !!!!!!\")\n",
    "print(\"choose  1 for= CBC,BP,=399\")\n",
    "print(\" choose 2 for= CBC,BP,+TYPYOD=799\")\n",
    "print(\"choose 3 for= CBC,BP,  BS,VIDAL,MALERIA,DENGUE=1099\")\n",
    "choose=int(input(\"enter pack \"))\n",
    "if choose==1:\n",
    "    print(\"CBC,BP,=399\")\n",
    "    print(\"payment mode 1.case /n 2.upi\")\n",
    "    v=int(input(\"enter mode\"))\n",
    "    if v==1:\n",
    "        print(\"total price 399 offer 10%\")\n",
    "        print(\"pay=39.9\")\n",
    "    elif v==2:\n",
    "        print(\"total price is 399 offer 15%\")\n",
    "        print(\"pay=59.85\")\n",
    "    \n",
    "elif choose==2:\n",
    "    print(\"choose 2 for= CBC,BP,+TYPYOD= 799\")\n",
    "    print(\"payment mode 1.case /n 2.upi\")\n",
    "    vx=int(input(\"enter mode\"))\n",
    "    if vx==1:\n",
    "        print(\"total price 799 offer 10%\")\n",
    "        print(\"pay=79.9\")\n",
    "    elif vx==2:\n",
    "        print(\"total price is 799 offer 15%\")\n",
    "        print(\"pay=119.85\")\n",
    "elif choose==3:\n",
    "    print(\"CBC,BP,  BS,VIDAL,MALERIA,DENGUE=1099\")\n",
    "    print(\"payment mode 1.case /n 2.upi\")\n",
    "    va=int(input(\"enter mode\"))\n",
    "    if va==1:\n",
    "        print(\"total price 1099 offer 10%\")\n",
    "        print(\"pay=109.9\")\n",
    "    elif va==2:\n",
    "        print(\"total price is 1099 offer 15%\")\n",
    "        print(\"pay=164.85\")\n",
    "else:\n",
    "    print(\"thanks visit again\")\n",
    "    \n",
    "\n"
   ]
  },
  {
   "cell_type": "code",
   "execution_count": null,
   "id": "cc5542c0",
   "metadata": {},
   "outputs": [],
   "source": []
  },
  {
   "cell_type": "code",
   "execution_count": null,
   "id": "af7e5ec8",
   "metadata": {},
   "outputs": [],
   "source": []
  }
 ],
 "metadata": {
  "kernelspec": {
   "display_name": "Python 3 (ipykernel)",
   "language": "python",
   "name": "python3"
  },
  "language_info": {
   "codemirror_mode": {
    "name": "ipython",
    "version": 3
   },
   "file_extension": ".py",
   "mimetype": "text/x-python",
   "name": "python",
   "nbconvert_exporter": "python",
   "pygments_lexer": "ipython3",
   "version": "3.11.2"
  }
 },
 "nbformat": 4,
 "nbformat_minor": 5
}
